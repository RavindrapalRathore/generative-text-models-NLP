{
  "nbformat": 4,
  "nbformat_minor": 0,
  "metadata": {
    "colab": {
      "provenance": [],
      "authorship_tag": "ABX9TyOda8Mo9BNwmt45U7+THEJt",
      "include_colab_link": true
    },
    "kernelspec": {
      "name": "python3",
      "display_name": "Python 3"
    },
    "language_info": {
      "name": "python"
    }
  },
  "cells": [
    {
      "cell_type": "markdown",
      "metadata": {
        "id": "view-in-github",
        "colab_type": "text"
      },
      "source": [
        "<a href=\"https://colab.research.google.com/github/RavindrapalRathore/generative-text-models-NLP/blob/main/Internship_Assignment_for_NLP.ipynb\" target=\"_parent\"><img src=\"https://colab.research.google.com/assets/colab-badge.svg\" alt=\"Open In Colab\"/></a>"
      ]
    },
    {
      "cell_type": "code",
      "execution_count": null,
      "metadata": {
        "colab": {
          "base_uri": "https://localhost:8080/"
        },
        "id": "KfXJre9U-4C9",
        "outputId": "cd8d1eeb-6138-437f-c6c8-3b4c389cc9cb"
      },
      "outputs": [
        {
          "output_type": "stream",
          "name": "stdout",
          "text": [
            "Requirement already satisfied: spacy in /usr/local/lib/python3.10/dist-packages (3.6.1)\n",
            "Requirement already satisfied: scikit-learn in /usr/local/lib/python3.10/dist-packages (1.2.2)\n",
            "Requirement already satisfied: spacy-legacy<3.1.0,>=3.0.11 in /usr/local/lib/python3.10/dist-packages (from spacy) (3.0.12)\n",
            "Requirement already satisfied: spacy-loggers<2.0.0,>=1.0.0 in /usr/local/lib/python3.10/dist-packages (from spacy) (1.0.5)\n",
            "Requirement already satisfied: murmurhash<1.1.0,>=0.28.0 in /usr/local/lib/python3.10/dist-packages (from spacy) (1.0.10)\n",
            "Requirement already satisfied: cymem<2.1.0,>=2.0.2 in /usr/local/lib/python3.10/dist-packages (from spacy) (2.0.8)\n",
            "Requirement already satisfied: preshed<3.1.0,>=3.0.2 in /usr/local/lib/python3.10/dist-packages (from spacy) (3.0.9)\n",
            "Requirement already satisfied: thinc<8.2.0,>=8.1.8 in /usr/local/lib/python3.10/dist-packages (from spacy) (8.1.12)\n",
            "Requirement already satisfied: wasabi<1.2.0,>=0.9.1 in /usr/local/lib/python3.10/dist-packages (from spacy) (1.1.2)\n",
            "Requirement already satisfied: srsly<3.0.0,>=2.4.3 in /usr/local/lib/python3.10/dist-packages (from spacy) (2.4.8)\n",
            "Requirement already satisfied: catalogue<2.1.0,>=2.0.6 in /usr/local/lib/python3.10/dist-packages (from spacy) (2.0.10)\n",
            "Requirement already satisfied: typer<0.10.0,>=0.3.0 in /usr/local/lib/python3.10/dist-packages (from spacy) (0.9.0)\n",
            "Requirement already satisfied: pathy>=0.10.0 in /usr/local/lib/python3.10/dist-packages (from spacy) (0.10.2)\n",
            "Requirement already satisfied: smart-open<7.0.0,>=5.2.1 in /usr/local/lib/python3.10/dist-packages (from spacy) (6.4.0)\n",
            "Requirement already satisfied: tqdm<5.0.0,>=4.38.0 in /usr/local/lib/python3.10/dist-packages (from spacy) (4.66.1)\n",
            "Requirement already satisfied: numpy>=1.15.0 in /usr/local/lib/python3.10/dist-packages (from spacy) (1.23.5)\n",
            "Requirement already satisfied: requests<3.0.0,>=2.13.0 in /usr/local/lib/python3.10/dist-packages (from spacy) (2.31.0)\n",
            "Requirement already satisfied: pydantic!=1.8,!=1.8.1,<3.0.0,>=1.7.4 in /usr/local/lib/python3.10/dist-packages (from spacy) (1.10.13)\n",
            "Requirement already satisfied: jinja2 in /usr/local/lib/python3.10/dist-packages (from spacy) (3.1.2)\n",
            "Requirement already satisfied: setuptools in /usr/local/lib/python3.10/dist-packages (from spacy) (67.7.2)\n",
            "Requirement already satisfied: packaging>=20.0 in /usr/local/lib/python3.10/dist-packages (from spacy) (23.2)\n",
            "Requirement already satisfied: langcodes<4.0.0,>=3.2.0 in /usr/local/lib/python3.10/dist-packages (from spacy) (3.3.0)\n",
            "Requirement already satisfied: scipy>=1.3.2 in /usr/local/lib/python3.10/dist-packages (from scikit-learn) (1.11.3)\n",
            "Requirement already satisfied: joblib>=1.1.1 in /usr/local/lib/python3.10/dist-packages (from scikit-learn) (1.3.2)\n",
            "Requirement already satisfied: threadpoolctl>=2.0.0 in /usr/local/lib/python3.10/dist-packages (from scikit-learn) (3.2.0)\n",
            "Requirement already satisfied: typing-extensions>=4.2.0 in /usr/local/lib/python3.10/dist-packages (from pydantic!=1.8,!=1.8.1,<3.0.0,>=1.7.4->spacy) (4.5.0)\n",
            "Requirement already satisfied: charset-normalizer<4,>=2 in /usr/local/lib/python3.10/dist-packages (from requests<3.0.0,>=2.13.0->spacy) (3.3.0)\n",
            "Requirement already satisfied: idna<4,>=2.5 in /usr/local/lib/python3.10/dist-packages (from requests<3.0.0,>=2.13.0->spacy) (3.4)\n",
            "Requirement already satisfied: urllib3<3,>=1.21.1 in /usr/local/lib/python3.10/dist-packages (from requests<3.0.0,>=2.13.0->spacy) (2.0.7)\n",
            "Requirement already satisfied: certifi>=2017.4.17 in /usr/local/lib/python3.10/dist-packages (from requests<3.0.0,>=2.13.0->spacy) (2023.7.22)\n",
            "Requirement already satisfied: blis<0.8.0,>=0.7.8 in /usr/local/lib/python3.10/dist-packages (from thinc<8.2.0,>=8.1.8->spacy) (0.7.11)\n",
            "Requirement already satisfied: confection<1.0.0,>=0.0.1 in /usr/local/lib/python3.10/dist-packages (from thinc<8.2.0,>=8.1.8->spacy) (0.1.3)\n",
            "Requirement already satisfied: click<9.0.0,>=7.1.1 in /usr/local/lib/python3.10/dist-packages (from typer<0.10.0,>=0.3.0->spacy) (8.1.7)\n",
            "Requirement already satisfied: MarkupSafe>=2.0 in /usr/local/lib/python3.10/dist-packages (from jinja2->spacy) (2.1.3)\n"
          ]
        }
      ],
      "source": [
        "pip install spacy scikit-learn\n"
      ]
    },
    {
      "cell_type": "code",
      "source": [
        "pip install PyMuPDF\n"
      ],
      "metadata": {
        "colab": {
          "base_uri": "https://localhost:8080/"
        },
        "id": "v2U4IC---4sx",
        "outputId": "1cd67752-986f-4ba8-b62b-7122916a2722"
      },
      "execution_count": null,
      "outputs": [
        {
          "output_type": "stream",
          "name": "stdout",
          "text": [
            "Collecting PyMuPDF\n",
            "  Downloading PyMuPDF-1.23.5-cp310-none-manylinux2014_x86_64.whl (4.3 MB)\n",
            "\u001b[2K     \u001b[90m━━━━━━━━━━━━━━━━━━━━━━━━━━━━━━━━━━━━━━━━\u001b[0m \u001b[32m4.3/4.3 MB\u001b[0m \u001b[31m8.8 MB/s\u001b[0m eta \u001b[36m0:00:00\u001b[0m\n",
            "\u001b[?25hCollecting PyMuPDFb==1.23.5 (from PyMuPDF)\n",
            "  Downloading PyMuPDFb-1.23.5-py3-none-manylinux2014_x86_64.manylinux_2_17_x86_64.whl (30.6 MB)\n",
            "\u001b[2K     \u001b[90m━━━━━━━━━━━━━━━━━━━━━━━━━━━━━━━━━━━━━━━━\u001b[0m \u001b[32m30.6/30.6 MB\u001b[0m \u001b[31m44.4 MB/s\u001b[0m eta \u001b[36m0:00:00\u001b[0m\n",
            "\u001b[?25hInstalling collected packages: PyMuPDFb, PyMuPDF\n",
            "Successfully installed PyMuPDF-1.23.5 PyMuPDFb-1.23.5\n"
          ]
        }
      ]
    },
    {
      "cell_type": "code",
      "source": [
        "import fitz  # PyMuPDF\n",
        "import spacy\n",
        "from sklearn.feature_extraction.text import TfidfVectorizer\n",
        "from sklearn.metrics.pairwise import linear_kernel\n",
        "import random\n",
        "\n",
        "# Load the English language model in spaCy\n",
        "nlp = spacy.load(\"en_core_web_sm\")\n",
        "\n",
        "# Define the function to read text from a PDF file\n",
        "def read_pdf_text(pdf_path):\n",
        "    text = \"\"\n",
        "    doc = fitz.open(pdf_path)\n",
        "    for page_num in range(doc.page_count):\n",
        "        page = doc.load_page(page_num)\n",
        "        text += page.get_text()\n",
        "    return text\n",
        "\n",
        "# Define the function to generate multiple-choice questions with 4 options (2 correct answers)\n",
        "def get_mca_questions(context, num_questions, num_options):\n",
        "    # Tokenize the input context using spaCy\n",
        "    doc = nlp(context)\n",
        "\n",
        "    # Extract sentences from the context\n",
        "    sentences = [sent.text for sent in doc.sents]\n",
        "\n",
        "    # Initialize a TF-IDF vectorizer\n",
        "    vectorizer = TfidfVectorizer()\n",
        "\n",
        "    # Calculate TF-IDF scores for the sentences\n",
        "    tfidf_matrix = vectorizer.fit_transform(sentences)\n",
        "\n",
        "    # Calculate cosine similarity between sentences\n",
        "    cosine_similarities = linear_kernel(tfidf_matrix, tfidf_matrix)\n",
        "\n",
        "    mca_questions = []\n",
        "\n",
        "    # Iterate over the sentences\n",
        "    for i, sentence in enumerate(sentences):\n",
        "        options = [sentence]\n",
        "\n",
        "        # Sort sentences by similarity\n",
        "        similar_sentences = sorted(enumerate(cosine_similarities[i]), key=lambda x: x[1], reverse=True)\n",
        "\n",
        "        # Add most similar sentences as options\n",
        "        for j, score in similar_sentences[1:num_options]:\n",
        "            options.append(sentences[j])\n",
        "\n",
        "        # Shuffle the options\n",
        "        random.shuffle(options)\n",
        "\n",
        "        # Define the correct answers (first two options)\n",
        "        correct_answers = [options.index(sentence), options.index(sentence) + 1]\n",
        "\n",
        "        # Convert options to a formatted question\n",
        "        question = f\"Q{i + 1}: {sentence}\\n\"\n",
        "        options_str = \"\\n\".join([f\"{chr(97 + i)}. {option}\" for i, option in enumerate(options)])\n",
        "        question += options_str\n",
        "\n",
        "        # Add the correct options to the question\n",
        "        correct_answers_str = \", \".join([chr(97 + i) for i in correct_answers])\n",
        "        question += f\"\\nCorrect Options: ({correct_answers_str})\"\n",
        "        mca_questions.append(question)\n",
        "\n",
        "        # Check if the desired number of questions has been generated\n",
        "        if len(mca_questions) == num_questions:\n",
        "            break\n",
        "\n",
        "    return mca_questions\n",
        "\n",
        "# Path to your PDF files\n",
        "pdf_files = [\"/content/chapter-2.pdf\", \"/content/chapter-3.pdf\", \"/content/chapter-4.pdf\"]\n",
        "num_total_questions = 5  # Total number of MCQs to generate\n",
        "num_questions_per_pdf = num_total_questions // len(pdf_files)  # Divide questions equally among PDFs\n",
        "\n",
        "# Generate MCQs from each PDF file\n",
        "for pdf_file in pdf_files:\n",
        "    context = read_pdf_text(pdf_file)\n",
        "    mca_questions = get_mca_questions(context, num_questions_per_pdf, 4)  # 4 options (2 correct answers)\n",
        "\n",
        "    # Print the generated questions\n",
        "    for question in mca_questions:\n",
        "        print(question)\n"
      ],
      "metadata": {
        "id": "_YzIc5viAfjO",
        "colab": {
          "base_uri": "https://localhost:8080/"
        },
        "outputId": "5daca6fa-f5a2-48ab-ea2a-036bc660badd"
      },
      "execution_count": 8,
      "outputs": [
        {
          "output_type": "stream",
          "name": "stdout",
          "text": [
            "Q1: From Trade to Territory                   \n",
            "The Company Establishes Power\n",
            "2\n",
            "Aurangzeb was the last of the powerful Mughal rulers.\n",
            "a. Only in \n",
            "the last – the Battle of Seringapatam – did the Company \n",
            "ultimately win a victory.\n",
            "b. It also persuaded the \n",
            "Mughal emperor Aurangzeb to issue a farman granting \n",
            "the Company the right to trade duty free.\n",
            "\n",
            "c. From Trade to Territory                   \n",
            "The Company Establishes Power\n",
            "2\n",
            "Aurangzeb was the last of the powerful Mughal rulers.\n",
            "d. In what way was the administration of the \n",
            "Company different from that of Indian rulers?\n",
            "9.\n",
            "Correct Options: (c, d)\n",
            "Q1: Fig. 1 – Robert Clive \n",
            "accepting  the Diwani          \n",
            "of Bengal, Bihar and \n",
            "Orissa from the Mughal \n",
            "ruler in 1765\n",
            "The Company Becomes the Diwan\n",
            "On 12 August 1765, the Mughal emperor appointed the East \n",
            "India Company as the Diwan of Bengal.\n",
            "a. Revenue for the Company\n",
            "The Company had become the Diwan, but it still saw itself \n",
            "primarily as a trader.\n",
            "b. Fig. 1 – Robert Clive \n",
            "accepting  the Diwani          \n",
            "of Bengal, Bihar and \n",
            "Orissa from the Mughal \n",
            "ruler in 1765\n",
            "The Company Becomes the Diwan\n",
            "On 12 August 1765, the Mughal emperor appointed the East \n",
            "India Company as the Diwan of Bengal.\n",
            "c. As Diwan, the Company became the chief financial \n",
            "administrator of the territory under its control.\n",
            "d. Before 1765, the Company had purchased \n",
            "goods in India by importing gold and silver from Britain.\n",
            "Correct Options: (b, c)\n",
            "Q1: Tribals, Dikus and the  \n",
            "Vision of a Golden Age\n",
            "4\n",
            "In 1895, a man named Birsa was seen roaming the forests and \n",
            "villages of Chottanagpur in Jharkhand.\n",
            "a. Tribals, Dikus and the  \n",
            "Vision of a Golden Age\n",
            "4\n",
            "In 1895, a man named Birsa was seen roaming the forests and \n",
            "villages of Chottanagpur in Jharkhand.\n",
            "b. Source 3\n",
            "Rationalised 2023-24\n",
            " \n",
            "TRIBALS, DIKUS AND THE VISION OF A GOLDEN AGE          49\n",
            "\n",
            "c. Rationalised 2023-24\n",
            " \n",
            "TRIBALS, DIKUS AND THE VISION OF A GOLDEN AGE          47\n",
            "\n",
            "d. What was Birsa’s vision of a golden age?\n",
            "Correct Options: (a, b)\n"
          ]
        }
      ]
    },
    {
      "cell_type": "code",
      "source": [],
      "metadata": {
        "id": "swJdfCfHU93i"
      },
      "execution_count": null,
      "outputs": []
    }
  ]
}